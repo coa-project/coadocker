{
 "cells": [
  {
   "cell_type": "markdown",
   "metadata": {},
   "source": [
    "![pycoa_logo](https://github.com/coa-project/coa-project.github.io/raw/main/fig/logo-bitmap-small.png)\n",
    "\n",
    "# Salon des maths mai 2021 - Démonstration pycoa\n",
    "Tristan Beau, Julien Browaeÿs, Olivier Dadoun\n",
    "\n",
    "Retrouvez nous sur :\n",
    "* le web : [www.pycoa.fr](www.pycoa.fr)\n",
    "* twitter : [@pycoa_fr](https://twitter.com/pycoa_fr)\n",
    "* git : [coa-project/pycoa](https://github.com/coa-project/pycoa)\n",
    "* data gouv fr : [reuses/pycoa-python-covid-analysis](https://www.data.gouv.fr/fr/reuses/pycoa-python-covid-analysis/%20%20%20%20)\n",
    "* mail : [support@pycoa.fr](mailto:support@pycoa.fr)\n",
    "\n",
    "Pour une documentation de référence, consulter le [wiki](https://github.com/coa-project/pycoa/wiki)."
   ]
  },
  {
   "cell_type": "markdown",
   "metadata": {},
   "source": [
    "Ce notebook Jupyter™ est disponible directement sous [mybinder](https://mybinder.org). Retrouvez l'environnement binder [ici](https://github.com/coa-project/coadocker)."
   ]
  },
  {
   "cell_type": "markdown",
   "metadata": {},
   "source": [
    "## Configuration de l'environnement"
   ]
  },
  {
   "cell_type": "code",
   "execution_count": null,
   "metadata": {},
   "outputs": [],
   "source": [
    "import coabinder"
   ]
  },
  {
   "cell_type": "markdown",
   "metadata": {},
   "source": [
    "Chargement du *frontend*"
   ]
  },
  {
   "cell_type": "code",
   "execution_count": null,
   "metadata": {},
   "outputs": [],
   "source": [
    "import coa.front as cf # Utilisation du frontend par défaut, qui prend en compte la base JHU"
   ]
  },
  {
   "cell_type": "markdown",
   "metadata": {},
   "source": [
    "## Premiers graphiques"
   ]
  },
  {
   "cell_type": "code",
   "execution_count": null,
   "metadata": {},
   "outputs": [],
   "source": [
    "cf.map()  # arguments par défaut"
   ]
  },
  {
   "cell_type": "code",
   "execution_count": null,
   "metadata": {},
   "outputs": [],
   "source": [
    "cf.plot(where='European union',which='deaths') # en spécifiant le lieu, la donnée d'intérêt"
   ]
  },
  {
   "cell_type": "code",
   "execution_count": null,
   "metadata": {},
   "outputs": [],
   "source": [
    "cf.listregion() # Une région est un ensemble de subregions, pour une base mondiale, de pays"
   ]
  },
  {
   "cell_type": "code",
   "execution_count": null,
   "metadata": {},
   "outputs": [],
   "source": [
    "cf.plot(where='Europe',which='deaths',option='sumall') # possibilité de sommer le champ de données sur tous les pays considérés"
   ]
  },
  {
   "cell_type": "code",
   "execution_count": null,
   "metadata": {},
   "outputs": [],
   "source": [
    "cf.listwhich() # liste des champs de données accessibles pour la base actuelle, jhu présentement"
   ]
  },
  {
   "cell_type": "code",
   "execution_count": null,
   "metadata": {},
   "outputs": [],
   "source": [
    "cf.listwhat() # liste des représentations possibles : cumulative (par défaut), journalière, hebdomadaire"
   ]
  },
  {
   "cell_type": "code",
   "execution_count": null,
   "metadata": {},
   "outputs": [],
   "source": [
    "cf.listoption() # liste des options disponibles (voir l'aide si besoin)"
   ]
  },
  {
   "cell_type": "code",
   "execution_count": null,
   "metadata": {},
   "outputs": [],
   "source": [
    "cf.plot(where=['France','Italy','Spain','United kingdom'],which='confirmed',what='weekly') # en précisant plusieurs pays explicitement\n",
    "# on pourra ajouter utilement l'option nonneg pour voir ce que cela donne, ou smooth7 (ou les deux)"
   ]
  },
  {
   "cell_type": "code",
   "execution_count": null,
   "metadata": {},
   "outputs": [],
   "source": [
    "cf.hist(where='G7') # histogramme horizontal par pays, en spécifiant ici une région comme localisation. Noter la possibilité d'avoir une représentation en log"
   ]
  },
  {
   "cell_type": "code",
   "execution_count": null,
   "metadata": {},
   "outputs": [],
   "source": [
    "cf.hist(where='G7',typeofhist='pie') # même type d'information mais sous forme d'un camembert."
   ]
  },
  {
   "cell_type": "code",
   "execution_count": null,
   "metadata": {},
   "outputs": [],
   "source": [
    "cf.hist(where='World',typeofhist='byvalue',bins=50) # histogramme classique par valeur. On notera la possibilité d'avoir les données en logx, logy voire loglog."
   ]
  },
  {
   "cell_type": "markdown",
   "metadata": {},
   "source": [
    "## Quelles autres bases supportées par pycoa ? "
   ]
  },
  {
   "cell_type": "code",
   "execution_count": null,
   "metadata": {},
   "outputs": [],
   "source": [
    "cf.getwhom() # retourne la base actuelle chargée dans le frontend"
   ]
  },
  {
   "cell_type": "code",
   "execution_count": null,
   "metadata": {},
   "outputs": [],
   "source": [
    "cf.listwhom() # liste des bases supportées"
   ]
  },
  {
   "cell_type": "code",
   "execution_count": null,
   "metadata": {},
   "outputs": [],
   "source": [
    "cf.setwhom('spf') # changement de base, ici SPF, Santé Publique France. \n",
    "# Noter les champs de données accessibles"
   ]
  },
  {
   "cell_type": "code",
   "execution_count": null,
   "metadata": {},
   "outputs": [],
   "source": [
    "cf.plot(which='tot_vacc2',where='Métropole',option='sumall',when='01/01/2021:') "
   ]
  },
  {
   "cell_type": "code",
   "execution_count": null,
   "metadata": {},
   "outputs": [],
   "source": [
    "cf.map(which='cur_idx_taux_occupation_sae')"
   ]
  },
  {
   "cell_type": "code",
   "execution_count": null,
   "metadata": {},
   "outputs": [],
   "source": [
    "cf.map(which='cur_idx_taux_occupation_sae',when='15/04/2021')"
   ]
  },
  {
   "cell_type": "markdown",
   "metadata": {},
   "source": [
    "## À vous de jouer… quelle(s) donnée(s) souhaitez-vous explorer ? "
   ]
  },
  {
   "cell_type": "code",
   "execution_count": null,
   "metadata": {},
   "outputs": [],
   "source": []
  }
 ],
 "metadata": {
  "kernelspec": {
   "display_name": "Python 3",
   "language": "python",
   "name": "python3"
  },
  "language_info": {
   "codemirror_mode": {
    "name": "ipython",
    "version": 3
   },
   "file_extension": ".py",
   "mimetype": "text/x-python",
   "name": "python",
   "nbconvert_exporter": "python",
   "pygments_lexer": "ipython3",
   "version": "3.8.5"
  }
 },
 "nbformat": 4,
 "nbformat_minor": 4
}
